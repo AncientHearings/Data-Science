{
  "nbformat": 4,
  "nbformat_minor": 0,
  "metadata": {
    "colab": {
      "provenance": [],
      "authorship_tag": "ABX9TyOhLinC3uNlFPOWenaDgxE3",
      "include_colab_link": true
    },
    "kernelspec": {
      "name": "python3",
      "display_name": "Python 3"
    },
    "language_info": {
      "name": "python"
    }
  },
  "cells": [
    {
      "cell_type": "markdown",
      "metadata": {
        "id": "view-in-github",
        "colab_type": "text"
      },
      "source": [
        "<a href=\"https://colab.research.google.com/github/AncientHearings/Data-Science/blob/main/NumpyArrayDimensionsDay4.ipynb\" target=\"_parent\"><img src=\"https://colab.research.google.com/assets/colab-badge.svg\" alt=\"Open In Colab\"/></a>"
      ]
    },
    {
      "cell_type": "code",
      "execution_count": 18,
      "metadata": {
        "id": "lX5DWyZPq46j"
      },
      "outputs": [],
      "source": [
        "import numpy as x#importing numpy library\n",
        "#Numpy library is for mathematical problems.\n",
        "#Linear Algebra Problems\n",
        "#Matrix Problems\n",
        "#Calculus Problems.\n",
        "#Array Dimensions\n",
        "#One dimensional\n",
        "#two dimensional\n",
        "#three dimensional\n"
      ]
    },
    {
      "cell_type": "code",
      "source": [
        "A=x.array(5)#Scalar army\n",
        "print(A)"
      ],
      "metadata": {
        "colab": {
          "base_uri": "https://localhost:8080/"
        },
        "id": "KV_JT6jlrRk1",
        "outputId": "dad50b9a-d9b2-48a4-a608-474972223f82"
      },
      "execution_count": 7,
      "outputs": [
        {
          "output_type": "stream",
          "name": "stdout",
          "text": [
            "5\n"
          ]
        }
      ]
    },
    {
      "cell_type": "code",
      "source": [
        "x.ndim(A)#Dimension method"
      ],
      "metadata": {
        "colab": {
          "base_uri": "https://localhost:8080/"
        },
        "id": "lKTJUbrGrvo7",
        "outputId": "0cf7ff73-10f2-4b4b-8fea-794ce5861c8c"
      },
      "execution_count": 5,
      "outputs": [
        {
          "output_type": "execute_result",
          "data": {
            "text/plain": [
              "0"
            ]
          },
          "metadata": {},
          "execution_count": 4
        },
        {
          "output_type": "execute_result",
          "data": {
            "text/plain": [
              "0"
            ]
          },
          "metadata": {},
          "execution_count": 5
        }
      ]
    },
    {
      "cell_type": "code",
      "source": [
        "one=x.array([1,2,3,4,5])#1D array\n",
        "print(one)\n",
        "x.ndim(one)"
      ],
      "metadata": {
        "colab": {
          "base_uri": "https://localhost:8080/"
        },
        "id": "VlcXUtq5sBLD",
        "outputId": "703cbb74-75db-4393-ce0e-b89a48637297"
      },
      "execution_count": 8,
      "outputs": [
        {
          "output_type": "stream",
          "name": "stdout",
          "text": [
            "[1 2 3 4 5]\n"
          ]
        },
        {
          "output_type": "execute_result",
          "data": {
            "text/plain": [
              "1"
            ]
          },
          "metadata": {},
          "execution_count": 8
        }
      ]
    },
    {
      "cell_type": "code",
      "source": [
        "two=x.array([[1,2,3],[4,5,6]])#2D array\n",
        "print(two)\n",
        "x.ndim(two)#Dimenison method"
      ],
      "metadata": {
        "id": "Xo05cdmJtOmU",
        "outputId": "5acc5e08-58c0-4f1e-e25a-f8c3ed4c8cb0",
        "colab": {
          "base_uri": "https://localhost:8080/"
        }
      },
      "execution_count": 10,
      "outputs": [
        {
          "output_type": "stream",
          "name": "stdout",
          "text": [
            "[[1 2 3]\n",
            " [4 5 6]]\n"
          ]
        },
        {
          "output_type": "execute_result",
          "data": {
            "text/plain": [
              "2"
            ]
          },
          "metadata": {},
          "execution_count": 10
        }
      ]
    },
    {
      "cell_type": "code",
      "source": [
        "three=x.array([[[1,2,3],[4,5,6]],[[7,8,9],[10,11,12]]])#3d array\n",
        "#array () function is used to create 1-,2- or 3-D array\n",
        "#array() function is associated with numpy library.\n",
        "#Arguments passed to it.\n",
        "print(three)\n",
        "x.ndim(three)#Dimenison method"
      ],
      "metadata": {
        "id": "MscjiPsetbJI",
        "outputId": "fc1313b9-23d4-46e5-d156-53e00a299444",
        "colab": {
          "base_uri": "https://localhost:8080/"
        }
      },
      "execution_count": 11,
      "outputs": [
        {
          "output_type": "stream",
          "name": "stdout",
          "text": [
            "[[[ 1  2  3]\n",
            "  [ 4  5  6]]\n",
            "\n",
            " [[ 7  8  9]\n",
            "  [10 11 12]]]\n"
          ]
        },
        {
          "output_type": "execute_result",
          "data": {
            "text/plain": [
              "3"
            ]
          },
          "metadata": {},
          "execution_count": 11
        }
      ]
    },
    {
      "cell_type": "markdown",
      "source": [
        "List vs Numpy Array"
      ],
      "metadata": {
        "id": "u5GWhQcXuoRZ"
      }
    },
    {
      "cell_type": "code",
      "source": [
        "list=[1,2,0,'apple']#Different datatypes\n",
        "arr=x.array[1,2,3]#same data type\n"
      ],
      "metadata": {
        "id": "vI0FfLvjt9hC"
      },
      "execution_count": null,
      "outputs": []
    },
    {
      "cell_type": "code",
      "source": [
        "one=x.array([1,2,3,4,5])#One dimensional array\n",
        "print(one)\n",
        "x.ndim(one)\n",
        "one/5#Mathematical operations can be performed on array.\n",
        "\n"
      ],
      "metadata": {
        "id": "zQC3NnnHvWoU",
        "outputId": "b6cf5ab0-481b-4a64-c1a5-e47b6d732c9e",
        "colab": {
          "base_uri": "https://localhost:8080/"
        }
      },
      "execution_count": 17,
      "outputs": [
        {
          "output_type": "stream",
          "name": "stdout",
          "text": [
            "[1 2 3 4 5]\n"
          ]
        },
        {
          "output_type": "execute_result",
          "data": {
            "text/plain": [
              "array([0.2, 0.4, 0.6, 0.8, 1. ])"
            ]
          },
          "metadata": {},
          "execution_count": 17
        }
      ]
    },
    {
      "cell_type": "code",
      "source": [
        "#Array consumes less memory\n",
        "#Array is faster than list ."
      ],
      "metadata": {
        "id": "uXp6H79Yvw0a"
      },
      "execution_count": null,
      "outputs": []
    }
  ]
}
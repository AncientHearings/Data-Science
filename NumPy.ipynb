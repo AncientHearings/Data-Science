{
  "nbformat": 4,
  "nbformat_minor": 0,
  "metadata": {
    "colab": {
      "provenance": [],
      "authorship_tag": "ABX9TyPJJOdJjbpezKbQlWYYXg3T",
      "include_colab_link": true
    },
    "kernelspec": {
      "name": "python3",
      "display_name": "Python 3"
    },
    "language_info": {
      "name": "python"
    }
  },
  "cells": [
    {
      "cell_type": "markdown",
      "metadata": {
        "id": "view-in-github",
        "colab_type": "text"
      },
      "source": [
        "<a href=\"https://colab.research.google.com/github/AncientHearings/Data-Science/blob/main/NumPy.ipynb\" target=\"_parent\"><img src=\"https://colab.research.google.com/assets/colab-badge.svg\" alt=\"Open In Colab\"/></a>"
      ]
    },
    {
      "cell_type": "code",
      "execution_count": 2,
      "metadata": {
        "id": "7RYgDD8MaoBq"
      },
      "outputs": [],
      "source": [
        "import numpy as np #Import all the functions into the currently running maion programme."
      ]
    },
    {
      "cell_type": "code",
      "source": [
        "from numpy import *"
      ],
      "metadata": {
        "id": "s7BAT_Imc51_"
      },
      "execution_count": 3,
      "outputs": []
    },
    {
      "cell_type": "markdown",
      "source": [
        "####Creating Arrays\n"
      ],
      "metadata": {
        "id": "cFj3A2nuco1-"
      }
    },
    {
      "cell_type": "code",
      "source": [
        "#array() function is used to create one, two snd three dimensionalmatrix.\n",
        "#ones()\n",
        "#zeros()\n",
        "#empty\n",
        "\n",
        "arr1 = array([1, 2])\n",
        "arr1"
      ],
      "metadata": {
        "colab": {
          "base_uri": "https://localhost:8080/"
        },
        "id": "FLy1BRp2apyE",
        "outputId": "78658d06-d782-4e16-8f58-de0ea6e80493"
      },
      "execution_count": 4,
      "outputs": [
        {
          "output_type": "execute_result",
          "data": {
            "text/plain": [
              "array([1, 2])"
            ]
          },
          "metadata": {},
          "execution_count": 4
        }
      ]
    },
    {
      "cell_type": "code",
      "source": [
        "arr2 = array([[1, 2], [3, 4]])\n",
        "arr2"
      ],
      "metadata": {
        "colab": {
          "base_uri": "https://localhost:8080/"
        },
        "id": "E8AdJQL-c-Qf",
        "outputId": "bb5a8049-b9d4-4419-c386-0edeb25875a4"
      },
      "execution_count": 6,
      "outputs": [
        {
          "output_type": "execute_result",
          "data": {
            "text/plain": [
              "array([[1, 2],\n",
              "       [3, 4]])"
            ]
          },
          "metadata": {},
          "execution_count": 6
        }
      ]
    },
    {
      "cell_type": "code",
      "source": [
        "arr3 = ones((2, 3))\n",
        "arr3"
      ],
      "metadata": {
        "colab": {
          "base_uri": "https://localhost:8080/"
        },
        "id": "51wJBDQhdCcn",
        "outputId": "c22e8bb0-3da6-4800-edbb-2c8543233d63"
      },
      "execution_count": 8,
      "outputs": [
        {
          "output_type": "execute_result",
          "data": {
            "text/plain": [
              "array([[1., 1., 1.],\n",
              "       [1., 1., 1.]])"
            ]
          },
          "metadata": {},
          "execution_count": 8
        }
      ]
    },
    {
      "cell_type": "code",
      "source": [
        "arr4= zeros((2, 3))\n",
        "arr4"
      ],
      "metadata": {
        "colab": {
          "base_uri": "https://localhost:8080/"
        },
        "id": "Q8PfwbNedJyJ",
        "outputId": "18ee01ea-407e-4f18-e711-ee0d9f6a6b41"
      },
      "execution_count": 9,
      "outputs": [
        {
          "output_type": "execute_result",
          "data": {
            "text/plain": [
              "array([[0., 0., 0.],\n",
              "       [0., 0., 0.]])"
            ]
          },
          "metadata": {},
          "execution_count": 9
        }
      ]
    },
    {
      "cell_type": "code",
      "source": [
        "arr5 = empty((2, 2))\n",
        "arr5"
      ],
      "metadata": {
        "colab": {
          "base_uri": "https://localhost:8080/"
        },
        "id": "8iwgUXPRdN1V",
        "outputId": "7dbcd3fb-1836-4d27-81a4-94a463952d42"
      },
      "execution_count": 10,
      "outputs": [
        {
          "output_type": "execute_result",
          "data": {
            "text/plain": [
              "array([[1.29081364e-315, 0.00000000e+000],\n",
              "       [5.38670379e+228, 2.47085366e-259]])"
            ]
          },
          "metadata": {},
          "execution_count": 10
        }
      ]
    },
    {
      "cell_type": "markdown",
      "source": [
        "####Ranges  \n",
        "  \n",
        "linespace() and arange()"
      ],
      "metadata": {
        "id": "Knf-h0_kdUJR"
      }
    },
    {
      "cell_type": "code",
      "source": [
        "arr6 = arange(1, 50, 2)\n",
        "arr6"
      ],
      "metadata": {
        "colab": {
          "base_uri": "https://localhost:8080/"
        },
        "id": "ZE5YiygsdRzf",
        "outputId": "5fec4479-07ee-4584-d719-f3f174d746ad"
      },
      "execution_count": 11,
      "outputs": [
        {
          "output_type": "execute_result",
          "data": {
            "text/plain": [
              "array([ 1,  3,  5,  7,  9, 11, 13, 15, 17, 19, 21, 23, 25, 27, 29, 31, 33,\n",
              "       35, 37, 39, 41, 43, 45, 47, 49])"
            ]
          },
          "metadata": {},
          "execution_count": 11
        }
      ]
    },
    {
      "cell_type": "code",
      "source": [
        "arr7 = linspace(0, 1, 5)\n",
        "arr7"
      ],
      "metadata": {
        "colab": {
          "base_uri": "https://localhost:8080/"
        },
        "id": "fLIer9RrdfSN",
        "outputId": "7464e954-380a-4055-b7d4-88cdbf2bf14e"
      },
      "execution_count": 12,
      "outputs": [
        {
          "output_type": "execute_result",
          "data": {
            "text/plain": [
              "array([0.  , 0.25, 0.5 , 0.75, 1.  ])"
            ]
          },
          "metadata": {},
          "execution_count": 12
        }
      ]
    },
    {
      "cell_type": "markdown",
      "source": [
        "####Special Arrays  \n",
        "  \n",
        "eye()  \n",
        "diag()  \n",
        "random.rand()"
      ],
      "metadata": {
        "id": "ixHor72ndnvV"
      }
    },
    {
      "cell_type": "code",
      "source": [
        "identity = eye(3)\n",
        "identity"
      ],
      "metadata": {
        "colab": {
          "base_uri": "https://localhost:8080/"
        },
        "id": "u2wJjdsJdmfi",
        "outputId": "40a9bff3-7ba3-464e-eb0e-9f6fe2a2279d"
      },
      "execution_count": 13,
      "outputs": [
        {
          "output_type": "execute_result",
          "data": {
            "text/plain": [
              "array([[1., 0., 0.],\n",
              "       [0., 1., 0.],\n",
              "       [0., 0., 1.]])"
            ]
          },
          "metadata": {},
          "execution_count": 13
        }
      ]
    },
    {
      "cell_type": "code",
      "source": [
        "diagonal = diag([1, 2, 3])\n",
        "diagonal"
      ],
      "metadata": {
        "colab": {
          "base_uri": "https://localhost:8080/"
        },
        "id": "H945Eccmd3PM",
        "outputId": "ea45337a-a841-41ff-ad3e-3797c6c6144b"
      },
      "execution_count": 14,
      "outputs": [
        {
          "output_type": "execute_result",
          "data": {
            "text/plain": [
              "array([[1, 0, 0],\n",
              "       [0, 2, 0],\n",
              "       [0, 0, 3]])"
            ]
          },
          "metadata": {},
          "execution_count": 14
        }
      ]
    },
    {
      "cell_type": "code",
      "source": [
        "random = random.rand(1, 4)\n",
        "random"
      ],
      "metadata": {
        "colab": {
          "base_uri": "https://localhost:8080/"
        },
        "id": "mGHbLKYpd8Jg",
        "outputId": "bda5e4c2-4c89-436d-8704-fd18602f9a25"
      },
      "execution_count": 15,
      "outputs": [
        {
          "output_type": "execute_result",
          "data": {
            "text/plain": [
              "array([[0.91208542, 0.97971287, 0.21878468, 0.75394228]])"
            ]
          },
          "metadata": {},
          "execution_count": 15
        }
      ]
    },
    {
      "cell_type": "markdown",
      "source": [
        "####Array Properties\n"
      ],
      "metadata": {
        "id": "GHVOJsIieBVI"
      }
    },
    {
      "cell_type": "markdown",
      "source": [
        "ndim  \n",
        "size  \n",
        "shape  \n",
        "dtype"
      ],
      "metadata": {
        "id": "YZqv0dfQebrJ"
      }
    },
    {
      "cell_type": "code",
      "source": [
        "arr7.ndim"
      ],
      "metadata": {
        "colab": {
          "base_uri": "https://localhost:8080/"
        },
        "id": "6-AJjquBeACr",
        "outputId": "179fd8d6-b531-426a-c5fa-48b425c51246"
      },
      "execution_count": 16,
      "outputs": [
        {
          "output_type": "execute_result",
          "data": {
            "text/plain": [
              "1"
            ]
          },
          "metadata": {},
          "execution_count": 16
        }
      ]
    },
    {
      "cell_type": "code",
      "source": [
        "arr7.shape"
      ],
      "metadata": {
        "colab": {
          "base_uri": "https://localhost:8080/"
        },
        "id": "CB5CqInVeSCh",
        "outputId": "23725007-06a3-46d3-aa00-0be92a0f6665"
      },
      "execution_count": 17,
      "outputs": [
        {
          "output_type": "execute_result",
          "data": {
            "text/plain": [
              "(5,)"
            ]
          },
          "metadata": {},
          "execution_count": 17
        }
      ]
    },
    {
      "cell_type": "code",
      "source": [
        "arr7.size"
      ],
      "metadata": {
        "colab": {
          "base_uri": "https://localhost:8080/"
        },
        "id": "qiAJr6cSeT9X",
        "outputId": "c292cff2-a6dc-425b-deb8-80843abe1118"
      },
      "execution_count": 18,
      "outputs": [
        {
          "output_type": "execute_result",
          "data": {
            "text/plain": [
              "5"
            ]
          },
          "metadata": {},
          "execution_count": 18
        }
      ]
    },
    {
      "cell_type": "code",
      "source": [
        "arr7.dtype"
      ],
      "metadata": {
        "colab": {
          "base_uri": "https://localhost:8080/"
        },
        "id": "zfCsp7_CeVEN",
        "outputId": "7fdc2b9c-051f-4e85-80a3-6e9296ef526f"
      },
      "execution_count": 20,
      "outputs": [
        {
          "output_type": "execute_result",
          "data": {
            "text/plain": [
              "dtype('float64')"
            ]
          },
          "metadata": {},
          "execution_count": 20
        }
      ]
    },
    {
      "cell_type": "markdown",
      "source": [
        "####Basic Operations"
      ],
      "metadata": {
        "id": "3yuIAVBneiM-"
      }
    },
    {
      "cell_type": "markdown",
      "source": [
        "Arithmetic Operations"
      ],
      "metadata": {
        "id": "zq7Hn2DSe76W"
      }
    },
    {
      "cell_type": "code",
      "source": [
        "a = array([1, 2, 3])\n",
        "b = array([4, 5, 6])\n",
        "print(a +b)"
      ],
      "metadata": {
        "colab": {
          "base_uri": "https://localhost:8080/"
        },
        "id": "ayGb1BEaeW31",
        "outputId": "430ce6e4-0c0f-4b8d-cd55-26d84d56a338"
      },
      "execution_count": 22,
      "outputs": [
        {
          "output_type": "stream",
          "name": "stdout",
          "text": [
            "[5 7 9]\n"
          ]
        }
      ]
    },
    {
      "cell_type": "markdown",
      "source": [
        "Aggregate Functions"
      ],
      "metadata": {
        "id": "qguuAolOe_qT"
      }
    },
    {
      "cell_type": "code",
      "source": [
        "sum(a)"
      ],
      "metadata": {
        "colab": {
          "base_uri": "https://localhost:8080/"
        },
        "id": "v5ucJOZ8ehaS",
        "outputId": "d1890f98-c132-4fbf-cc2a-cf7c142c2717"
      },
      "execution_count": 23,
      "outputs": [
        {
          "output_type": "execute_result",
          "data": {
            "text/plain": [
              "np.int64(6)"
            ]
          },
          "metadata": {},
          "execution_count": 23
        }
      ]
    },
    {
      "cell_type": "code",
      "source": [
        "mean(a)"
      ],
      "metadata": {
        "colab": {
          "base_uri": "https://localhost:8080/"
        },
        "id": "IJoYfU0GfC2O",
        "outputId": "f323d8a0-e624-4253-ae92-88b2fd10018d"
      },
      "execution_count": 24,
      "outputs": [
        {
          "output_type": "execute_result",
          "data": {
            "text/plain": [
              "np.float64(2.0)"
            ]
          },
          "metadata": {},
          "execution_count": 24
        }
      ]
    },
    {
      "cell_type": "code",
      "source": [
        "max(a)"
      ],
      "metadata": {
        "colab": {
          "base_uri": "https://localhost:8080/"
        },
        "id": "nJTbwNWVfFao",
        "outputId": "0020e5f1-0efe-4aa8-873b-6d4fd188dc5d"
      },
      "execution_count": 25,
      "outputs": [
        {
          "output_type": "execute_result",
          "data": {
            "text/plain": [
              "np.int64(3)"
            ]
          },
          "metadata": {},
          "execution_count": 25
        }
      ]
    },
    {
      "cell_type": "markdown",
      "source": [
        "####Indexing and Slicing"
      ],
      "metadata": {
        "id": "mLysQRTDfcx4"
      }
    },
    {
      "cell_type": "markdown",
      "source": [
        "1D array"
      ],
      "metadata": {
        "id": "EwPDIDZAfhFF"
      }
    },
    {
      "cell_type": "code",
      "source": [
        "arr = array([1, 2, 3, 4, 5, 6])\n",
        "arr[0]"
      ],
      "metadata": {
        "colab": {
          "base_uri": "https://localhost:8080/"
        },
        "id": "80QrQLx1fHCQ",
        "outputId": "b43edf33-ed38-4fa4-f13e-1bdeb0bc2cbb"
      },
      "execution_count": 26,
      "outputs": [
        {
          "output_type": "execute_result",
          "data": {
            "text/plain": [
              "np.int64(1)"
            ]
          },
          "metadata": {},
          "execution_count": 26
        }
      ]
    },
    {
      "cell_type": "code",
      "source": [
        "arr[0:4]"
      ],
      "metadata": {
        "colab": {
          "base_uri": "https://localhost:8080/"
        },
        "id": "Sq73cBCQflnl",
        "outputId": "5b6c0415-2ba7-4c59-835c-410f979d1849"
      },
      "execution_count": 27,
      "outputs": [
        {
          "output_type": "execute_result",
          "data": {
            "text/plain": [
              "array([1, 2, 3, 4])"
            ]
          },
          "metadata": {},
          "execution_count": 27
        }
      ]
    },
    {
      "cell_type": "markdown",
      "source": [
        "2D array"
      ],
      "metadata": {
        "id": "aDELnPG2fobw"
      }
    },
    {
      "cell_type": "code",
      "source": [
        "arr = array([[1, 2, 3], [4, 5, 6]])\n",
        "arr[0, 0]"
      ],
      "metadata": {
        "colab": {
          "base_uri": "https://localhost:8080/"
        },
        "id": "DNim7xB1fnff",
        "outputId": "e4881010-7c13-4e99-80e0-ab226b0f4a10"
      },
      "execution_count": 28,
      "outputs": [
        {
          "output_type": "execute_result",
          "data": {
            "text/plain": [
              "np.int64(1)"
            ]
          },
          "metadata": {},
          "execution_count": 28
        }
      ]
    },
    {
      "cell_type": "code",
      "source": [
        "arr[:, 1]"
      ],
      "metadata": {
        "colab": {
          "base_uri": "https://localhost:8080/"
        },
        "id": "IdKMJGJ7fux6",
        "outputId": "8833493b-53a0-4e66-ffb4-032959272d4f"
      },
      "execution_count": 29,
      "outputs": [
        {
          "output_type": "execute_result",
          "data": {
            "text/plain": [
              "array([2, 5])"
            ]
          },
          "metadata": {},
          "execution_count": 29
        }
      ]
    },
    {
      "cell_type": "markdown",
      "source": [
        "####Practice"
      ],
      "metadata": {
        "id": "9QvZ_m9iglxX"
      }
    },
    {
      "cell_type": "code",
      "source": [
        "#1. Create a 3 x 3 array of zeros\n",
        "arr = zeros((3, 3))\n",
        "arr"
      ],
      "metadata": {
        "colab": {
          "base_uri": "https://localhost:8080/"
        },
        "id": "18lLw1Ppf145",
        "outputId": "7ab6bec0-7264-4079-8805-bac926a45b06"
      },
      "execution_count": 30,
      "outputs": [
        {
          "output_type": "execute_result",
          "data": {
            "text/plain": [
              "array([[0., 0., 0.],\n",
              "       [0., 0., 0.],\n",
              "       [0., 0., 0.]])"
            ]
          },
          "metadata": {},
          "execution_count": 30
        }
      ]
    },
    {
      "cell_type": "code",
      "source": [
        "#2. Generate an array of even numbers from 0 to 10\n",
        "arr = arange(0, 10, 2)\n",
        "arr"
      ],
      "metadata": {
        "colab": {
          "base_uri": "https://localhost:8080/"
        },
        "id": "tJ3V-oSZf-1R",
        "outputId": "2d29432c-e9c7-4d93-a96b-9768bf68f6e0"
      },
      "execution_count": 33,
      "outputs": [
        {
          "output_type": "execute_result",
          "data": {
            "text/plain": [
              "array([0, 2, 4, 6, 8])"
            ]
          },
          "metadata": {},
          "execution_count": 33
        }
      ]
    },
    {
      "cell_type": "code",
      "source": [
        "#Compute the mean of [5, 10, 15]\n",
        "sum([5, 10, 15])"
      ],
      "metadata": {
        "colab": {
          "base_uri": "https://localhost:8080/"
        },
        "id": "fjvtbnCjgJoe",
        "outputId": "2d07544f-a8bd-493c-b2ae-72073b81b35c"
      },
      "execution_count": 34,
      "outputs": [
        {
          "output_type": "execute_result",
          "data": {
            "text/plain": [
              "np.int64(30)"
            ]
          },
          "metadata": {},
          "execution_count": 34
        }
      ]
    },
    {
      "cell_type": "code",
      "source": [],
      "metadata": {
        "id": "klmIAg6_gS13"
      },
      "execution_count": null,
      "outputs": []
    },
    {
      "cell_type": "markdown",
      "source": [
        "#Advanced NumPy Operations"
      ],
      "metadata": {
        "id": "ejSED8F4gtU0"
      }
    },
    {
      "cell_type": "markdown",
      "source": [
        "##Reshaping and Combining Arrays"
      ],
      "metadata": {
        "id": "Q21-zDGIg5aq"
      }
    },
    {
      "cell_type": "code",
      "source": [
        "#RESHAPING ARRAYS\n",
        "#Change array dimensions without altering data\n",
        "\n",
        "arr = arange(6)\n",
        "arr = reshape(arr, (2, 3))\n",
        "arr"
      ],
      "metadata": {
        "colab": {
          "base_uri": "https://localhost:8080/"
        },
        "id": "kB1xlp3Lg3QH",
        "outputId": "f9e9321d-d8ab-41d4-e9a9-e2e9ae500f1f"
      },
      "execution_count": 35,
      "outputs": [
        {
          "output_type": "execute_result",
          "data": {
            "text/plain": [
              "array([[0, 1, 2],\n",
              "       [3, 4, 5]])"
            ]
          },
          "metadata": {},
          "execution_count": 35
        }
      ]
    },
    {
      "cell_type": "code",
      "source": [
        "#Flatten Arrays\n",
        "arr = array([[1, 2], [3, 4]])\n",
        "arr = arr.ravel() #Doesn't create copy. Only for viewing\n",
        "arr"
      ],
      "metadata": {
        "colab": {
          "base_uri": "https://localhost:8080/"
        },
        "id": "j1-5UmJ2hUBU",
        "outputId": "a602da3f-3794-4a12-ff60-d3dd02c3781e"
      },
      "execution_count": 38,
      "outputs": [
        {
          "output_type": "execute_result",
          "data": {
            "text/plain": [
              "array([1, 2, 3, 4])"
            ]
          },
          "metadata": {},
          "execution_count": 38
        }
      ]
    },
    {
      "cell_type": "code",
      "source": [
        "#Stacking Arrays\n",
        "a = array([1, 2])\n",
        "b = array([3, 4])\n",
        "\n",
        "v_stack = vstack((a, b))\n",
        "v_stack"
      ],
      "metadata": {
        "colab": {
          "base_uri": "https://localhost:8080/"
        },
        "id": "Ey-JvJJ8hj31",
        "outputId": "86812a96-f28d-4ce1-b7e1-c8db2efa94bc"
      },
      "execution_count": 39,
      "outputs": [
        {
          "output_type": "execute_result",
          "data": {
            "text/plain": [
              "array([[1, 2],\n",
              "       [3, 4]])"
            ]
          },
          "metadata": {},
          "execution_count": 39
        }
      ]
    },
    {
      "cell_type": "code",
      "source": [
        "h_stack = hstack((a, b))\n",
        "h_stack"
      ],
      "metadata": {
        "colab": {
          "base_uri": "https://localhost:8080/"
        },
        "id": "Bbd5mH8fh-qG",
        "outputId": "8e204993-fd46-4a48-d428-9d15439abb23"
      },
      "execution_count": 40,
      "outputs": [
        {
          "output_type": "execute_result",
          "data": {
            "text/plain": [
              "array([1, 2, 3, 4])"
            ]
          },
          "metadata": {},
          "execution_count": 40
        }
      ]
    },
    {
      "cell_type": "markdown",
      "source": [
        "##BROADCASTING"
      ],
      "metadata": {
        "id": "q8F4Mk5MiH2u"
      }
    },
    {
      "cell_type": "code",
      "source": [
        "a = array([[1, 2], [3, 4]]) # 2 x 2\n",
        "b = array([1, 2])           # 1 x 2\n",
        "c = a + b\n",
        "c"
      ],
      "metadata": {
        "colab": {
          "base_uri": "https://localhost:8080/"
        },
        "id": "CJsCU6UUiC4n",
        "outputId": "27ecd2e1-dd53-413a-a3bd-a49cf2d8e5ff"
      },
      "execution_count": 41,
      "outputs": [
        {
          "output_type": "execute_result",
          "data": {
            "text/plain": [
              "array([[2, 4],\n",
              "       [4, 6]])"
            ]
          },
          "metadata": {},
          "execution_count": 41
        }
      ]
    },
    {
      "cell_type": "markdown",
      "source": [
        "Both dimension should be same or atleast one should be 1.  \n",
        "  \n",
        "ALigns trailing dimensions"
      ],
      "metadata": {
        "id": "kNIl1o3uij4y"
      }
    },
    {
      "cell_type": "markdown",
      "source": [
        "##Universal Functions(ufunc)"
      ],
      "metadata": {
        "id": "CsRvrOTKix1Y"
      }
    },
    {
      "cell_type": "code",
      "source": [],
      "metadata": {
        "id": "kt1tVOXhibl_"
      },
      "execution_count": null,
      "outputs": []
    },
    {
      "cell_type": "markdown",
      "source": [
        "##Linear Algebra"
      ],
      "metadata": {
        "id": "Nr9v43tLi_MC"
      }
    },
    {
      "cell_type": "code",
      "source": [
        "#Matrix Multiplication\n",
        "a = array([[1, 2], [3, 4]])\n",
        "b = array([[5, 6], [7, 8]])\n",
        "DotProduct = dot(a, b)\n",
        "DotProduct"
      ],
      "metadata": {
        "colab": {
          "base_uri": "https://localhost:8080/"
        },
        "id": "GJWbs7lDjCGP",
        "outputId": "fa18c63b-3572-43ca-b41f-136d2d13ca93"
      },
      "execution_count": 42,
      "outputs": [
        {
          "output_type": "execute_result",
          "data": {
            "text/plain": [
              "array([[19, 22],\n",
              "       [43, 50]])"
            ]
          },
          "metadata": {},
          "execution_count": 42
        }
      ]
    },
    {
      "cell_type": "code",
      "source": [
        "#Inverse and Determinant\n",
        "matrix = array([[1, 2], [3, 4]])\n",
        "\n",
        "inv_matrix = linalg.inv(matrix)\n",
        "inv_matrix"
      ],
      "metadata": {
        "colab": {
          "base_uri": "https://localhost:8080/"
        },
        "id": "DJuefHCFjWbY",
        "outputId": "4954c0ce-c709-4d40-ae6a-4640f26ce3f9"
      },
      "execution_count": 44,
      "outputs": [
        {
          "output_type": "execute_result",
          "data": {
            "text/plain": [
              "array([[-2. ,  1. ],\n",
              "       [ 1.5, -0.5]])"
            ]
          },
          "metadata": {},
          "execution_count": 44
        }
      ]
    },
    {
      "cell_type": "code",
      "source": [
        "Determinant = linalg.det(matrix)\n",
        "Determinant"
      ],
      "metadata": {
        "colab": {
          "base_uri": "https://localhost:8080/"
        },
        "id": "XAkxbIdYkD6-",
        "outputId": "9abc914f-43ef-4524-c9e9-4be9b481b390"
      },
      "execution_count": 45,
      "outputs": [
        {
          "output_type": "execute_result",
          "data": {
            "text/plain": [
              "np.float64(-2.0000000000000004)"
            ]
          },
          "metadata": {},
          "execution_count": 45
        }
      ]
    },
    {
      "cell_type": "code",
      "source": [],
      "metadata": {
        "id": "8QyVcWBQkN1E"
      },
      "execution_count": null,
      "outputs": []
    },
    {
      "cell_type": "markdown",
      "source": [
        "##Boolean Masking"
      ],
      "metadata": {
        "id": "3jgBd_RgkSNt"
      }
    },
    {
      "cell_type": "markdown",
      "source": [
        "Filter arrays using condition"
      ],
      "metadata": {
        "id": "nVMtHMtQkdn0"
      }
    },
    {
      "cell_type": "code",
      "source": [
        "arr = array([1, 2, 3, 4,])\n",
        "mask = arr > 2\n",
        "arr = arr[mask]\n",
        "arr"
      ],
      "metadata": {
        "colab": {
          "base_uri": "https://localhost:8080/"
        },
        "id": "V-PiOJA7kUxg",
        "outputId": "7ed55d90-ffe0-4468-8e06-ccf21acb7b18"
      },
      "execution_count": 46,
      "outputs": [
        {
          "output_type": "execute_result",
          "data": {
            "text/plain": [
              "array([3, 4])"
            ]
          },
          "metadata": {},
          "execution_count": 46
        }
      ]
    },
    {
      "cell_type": "code",
      "source": [
        "arr = arr[arr % 2 == 0]\n",
        "arr"
      ],
      "metadata": {
        "colab": {
          "base_uri": "https://localhost:8080/"
        },
        "id": "9WbiFDb2ksfa",
        "outputId": "113abd1f-e48f-493a-f17d-c173b579feeb"
      },
      "execution_count": 48,
      "outputs": [
        {
          "output_type": "execute_result",
          "data": {
            "text/plain": [
              "array([4])"
            ]
          },
          "metadata": {},
          "execution_count": 48
        }
      ]
    },
    {
      "cell_type": "code",
      "source": [],
      "metadata": {
        "id": "LP-kGR57kxv-"
      },
      "execution_count": null,
      "outputs": []
    },
    {
      "cell_type": "markdown",
      "source": [
        "##Random Module"
      ],
      "metadata": {
        "id": "rhoGsNROk1bZ"
      }
    },
    {
      "cell_type": "markdown",
      "source": [
        "Generate random data"
      ],
      "metadata": {
        "id": "S2aqS3QCk4iK"
      }
    },
    {
      "cell_type": "code",
      "source": [
        "rand_arr = np.random.rand(1, 2)\n",
        "rand_arr"
      ],
      "metadata": {
        "colab": {
          "base_uri": "https://localhost:8080/"
        },
        "id": "qFf2etSAk3pO",
        "outputId": "6c64dcd2-da35-4f8b-c09d-64888ba646ab"
      },
      "execution_count": 50,
      "outputs": [
        {
          "output_type": "execute_result",
          "data": {
            "text/plain": [
              "array([[0.19703051, 0.67575549]])"
            ]
          },
          "metadata": {},
          "execution_count": 50
        }
      ]
    },
    {
      "cell_type": "code",
      "source": [
        "norm_arr = np.random.randn(3)\n",
        "norm_arr"
      ],
      "metadata": {
        "colab": {
          "base_uri": "https://localhost:8080/"
        },
        "id": "8DNONXeylHbp",
        "outputId": "efa3dfa8-3e15-4a31-8e72-a9bc3f9a38f9"
      },
      "execution_count": 51,
      "outputs": [
        {
          "output_type": "execute_result",
          "data": {
            "text/plain": [
              "array([-0.46367709, -0.16597073,  1.0341253 ])"
            ]
          },
          "metadata": {},
          "execution_count": 51
        }
      ]
    },
    {
      "cell_type": "code",
      "source": [
        "int_rand = np.random.randint(1, 5)\n",
        "int_rand"
      ],
      "metadata": {
        "colab": {
          "base_uri": "https://localhost:8080/"
        },
        "id": "0sKKMvzQlS2I",
        "outputId": "875609b3-3320-4cb7-b95d-5ab2fa90b2e4"
      },
      "execution_count": 52,
      "outputs": [
        {
          "output_type": "execute_result",
          "data": {
            "text/plain": [
              "3"
            ]
          },
          "metadata": {},
          "execution_count": 52
        }
      ]
    },
    {
      "cell_type": "code",
      "source": [],
      "metadata": {
        "id": "4GMtNaRAlXJT"
      },
      "execution_count": null,
      "outputs": []
    },
    {
      "cell_type": "markdown",
      "source": [
        "##Practice"
      ],
      "metadata": {
        "id": "qbHajCMRlbOD"
      }
    },
    {
      "cell_type": "code",
      "source": [
        "#Reshape np.arange(9) into a 3 x 3 matrix\n",
        "arr = np.arange(9)\n",
        "arr = arr.reshape(3, 3)\n",
        "arr"
      ],
      "metadata": {
        "colab": {
          "base_uri": "https://localhost:8080/"
        },
        "id": "GEx_WJmVld1o",
        "outputId": "27e411c4-64ba-4430-d9fd-b6d0f878f96f"
      },
      "execution_count": 54,
      "outputs": [
        {
          "output_type": "execute_result",
          "data": {
            "text/plain": [
              "array([[0, 1, 2],\n",
              "       [3, 4, 5],\n",
              "       [6, 7, 8]])"
            ]
          },
          "metadata": {},
          "execution_count": 54
        }
      ]
    },
    {
      "cell_type": "code",
      "source": [
        "from numpy import *"
      ],
      "metadata": {
        "id": "coGbV2gll9FW"
      },
      "execution_count": 55,
      "outputs": []
    },
    {
      "cell_type": "code",
      "source": [
        "#Multiply a 2 x 3 matrix by a 3 x1 vector\n",
        "\n",
        "a = ones((2, 3))\n",
        "b = ones((1, 3))\n",
        "\n",
        "c = a + b\n",
        "c"
      ],
      "metadata": {
        "colab": {
          "base_uri": "https://localhost:8080/"
        },
        "id": "AiBc2Dg8lt28",
        "outputId": "b548cfc3-24cb-4c50-849e-deff6888de58"
      },
      "execution_count": 58,
      "outputs": [
        {
          "output_type": "execute_result",
          "data": {
            "text/plain": [
              "array([[2., 2., 2.],\n",
              "       [2., 2., 2.]])"
            ]
          },
          "metadata": {},
          "execution_count": 58
        }
      ]
    },
    {
      "cell_type": "code",
      "source": [
        "#Extract all values > 5 from np.array([2, 6, 1, 8, 3])\n",
        "\n",
        "a = array([2, 6, 1, 8, 3])\n",
        "mask = a > 5\n",
        "a = a[mask]\n",
        "a"
      ],
      "metadata": {
        "colab": {
          "base_uri": "https://localhost:8080/"
        },
        "id": "oPIPC613mH85",
        "outputId": "575f380c-4b53-416a-e6fd-b4f9ce1f971a"
      },
      "execution_count": 60,
      "outputs": [
        {
          "output_type": "execute_result",
          "data": {
            "text/plain": [
              "array([6, 8])"
            ]
          },
          "metadata": {},
          "execution_count": 60
        }
      ]
    },
    {
      "cell_type": "code",
      "source": [],
      "metadata": {
        "id": "KLkBoM3EmeiE"
      },
      "execution_count": null,
      "outputs": []
    }
  ]
}